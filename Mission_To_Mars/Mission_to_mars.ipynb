{
 "cells": [
  {
   "cell_type": "code",
   "execution_count": 1,
   "id": "1aa21a3e",
   "metadata": {},
   "outputs": [],
   "source": [
    "#Dependencies\n",
    "import pandas as pd\n",
    "from bs4 import BeautifulSoup\n",
    "from splinter import Browser\n",
    "import pymongo\n",
    "import requests\n",
    "from flask import Flask, render_template, redirect\n",
    "from webdriver_manager.chrome import ChromeDriverManager\n",
    "from flask_pymongo import PyMongo"
   ]
  },
  {
   "cell_type": "code",
   "execution_count": 2,
   "id": "90fc2819",
   "metadata": {},
   "outputs": [
    {
     "name": "stderr",
     "output_type": "stream",
     "text": [
      "\n",
      "\n",
      "====== WebDriver manager ======\n",
      "Current google-chrome version is 93.0.4577\n",
      "Get LATEST driver version for 93.0.4577\n",
      "There is no [win32] chromedriver for browser 93.0.4577 in cache\n",
      "Get LATEST driver version for 93.0.4577\n",
      "Trying to download new driver from https://chromedriver.storage.googleapis.com/93.0.4577.63/chromedriver_win32.zip\n",
      "Driver has been saved in cache [C:\\Users\\Sergio\\.wdm\\drivers\\chromedriver\\win32\\93.0.4577.63]\n"
     ]
    }
   ],
   "source": [
    "executable_path = {'executable_path': ChromeDriverManager().install()}\n",
    "browser = Browser('chrome', **executable_path, headless =False)"
   ]
  },
  {
   "cell_type": "code",
   "execution_count": 20,
   "id": "db3c0ca7",
   "metadata": {},
   "outputs": [],
   "source": [
    "url=\"https://redplanetscience.com/\"\n",
    "browser.visit(url)\n",
    "html=browser.html\n",
    "soup=BeautifulSoup(html, 'html.parser')"
   ]
  },
  {
   "cell_type": "code",
   "execution_count": 21,
   "id": "e4b49bcf",
   "metadata": {},
   "outputs": [
    {
     "data": {
      "text/plain": [
       "'NASA to Hold Mars 2020 Perseverance Rover Launch Briefing'"
      ]
     },
     "execution_count": 21,
     "metadata": {},
     "output_type": "execute_result"
    }
   ],
   "source": [
    "#Getting the lastest news title\n",
    "news_title=soup.find(class_='content_title').text\n",
    "news_title"
   ]
  },
  {
   "cell_type": "code",
   "execution_count": 22,
   "id": "e6eac8e2",
   "metadata": {},
   "outputs": [
    {
     "data": {
      "text/plain": [
       "\"Learn more about the agency's next Red Planet mission during a live event on June 17.\""
      ]
     },
     "execution_count": 22,
     "metadata": {},
     "output_type": "execute_result"
    }
   ],
   "source": [
    "#getting the paragraph for title\n",
    "news_p=soup.find(class_='article_teaser_body').text\n",
    "news_p"
   ]
  },
  {
   "cell_type": "code",
   "execution_count": 44,
   "id": "3efeef37",
   "metadata": {},
   "outputs": [],
   "source": [
    "featured_image_url= \"https://spaceimages-mars.com/\"\n",
    "browser.visit(featured_image_url)\n",
    "browser.links.find_by_partial_text('FULL IMAGE').click()"
   ]
  },
  {
   "cell_type": "code",
   "execution_count": 45,
   "id": "63377789",
   "metadata": {},
   "outputs": [],
   "source": [
    "html=browser.html\n",
    "soup=BeautifulSoup(html, 'html.parser')"
   ]
  },
  {
   "cell_type": "code",
   "execution_count": 46,
   "id": "696df558",
   "metadata": {},
   "outputs": [],
   "source": [
    "path= soup.find('img', class_= \"fancybox-image\")['src']\n",
    "featured_image_url = featured_image_url + path"
   ]
  },
  {
   "cell_type": "code",
   "execution_count": 47,
   "id": "8d0108a1",
   "metadata": {},
   "outputs": [],
   "source": [
    "#MArs Table\n",
    "Mars_url= \"https://galaxyfacts-mars.com/\"\n",
    "browser.visit(Mars_url)"
   ]
  },
  {
   "cell_type": "code",
   "execution_count": 48,
   "id": "ae076858",
   "metadata": {},
   "outputs": [],
   "source": [
    "mars_df =pd.read_html(Mars_url)\n",
    "mars_df = mars_df[0]"
   ]
  },
  {
   "cell_type": "code",
   "execution_count": 49,
   "id": "6550018b",
   "metadata": {},
   "outputs": [
    {
     "data": {
      "text/html": [
       "<div>\n",
       "<style scoped>\n",
       "    .dataframe tbody tr th:only-of-type {\n",
       "        vertical-align: middle;\n",
       "    }\n",
       "\n",
       "    .dataframe tbody tr th {\n",
       "        vertical-align: top;\n",
       "    }\n",
       "\n",
       "    .dataframe thead th {\n",
       "        text-align: right;\n",
       "    }\n",
       "</style>\n",
       "<table border=\"1\" class=\"dataframe\">\n",
       "  <thead>\n",
       "    <tr style=\"text-align: right;\">\n",
       "      <th></th>\n",
       "      <th>Mars - Earth Comparison</th>\n",
       "      <th>Mars</th>\n",
       "      <th>Earth</th>\n",
       "    </tr>\n",
       "  </thead>\n",
       "  <tbody>\n",
       "    <tr>\n",
       "      <th>1</th>\n",
       "      <td>Diameter:</td>\n",
       "      <td>6,779 km</td>\n",
       "      <td>12,742 km</td>\n",
       "    </tr>\n",
       "    <tr>\n",
       "      <th>2</th>\n",
       "      <td>Mass:</td>\n",
       "      <td>6.39 × 10^23 kg</td>\n",
       "      <td>5.97 × 10^24 kg</td>\n",
       "    </tr>\n",
       "    <tr>\n",
       "      <th>3</th>\n",
       "      <td>Moons:</td>\n",
       "      <td>2</td>\n",
       "      <td>1</td>\n",
       "    </tr>\n",
       "    <tr>\n",
       "      <th>4</th>\n",
       "      <td>Distance from Sun:</td>\n",
       "      <td>227,943,824 km</td>\n",
       "      <td>149,598,262 km</td>\n",
       "    </tr>\n",
       "    <tr>\n",
       "      <th>5</th>\n",
       "      <td>Length of Year:</td>\n",
       "      <td>687 Earth days</td>\n",
       "      <td>365.24 days</td>\n",
       "    </tr>\n",
       "    <tr>\n",
       "      <th>6</th>\n",
       "      <td>Temperature:</td>\n",
       "      <td>-87 to -5 °C</td>\n",
       "      <td>-88 to 58°C</td>\n",
       "    </tr>\n",
       "  </tbody>\n",
       "</table>\n",
       "</div>"
      ],
      "text/plain": [
       "0 Mars - Earth Comparison             Mars            Earth\n",
       "1               Diameter:         6,779 km        12,742 km\n",
       "2                   Mass:  6.39 × 10^23 kg  5.97 × 10^24 kg\n",
       "3                  Moons:                2                1\n",
       "4      Distance from Sun:   227,943,824 km   149,598,262 km\n",
       "5         Length of Year:   687 Earth days      365.24 days\n",
       "6            Temperature:     -87 to -5 °C      -88 to 58°C"
      ]
     },
     "execution_count": 49,
     "metadata": {},
     "output_type": "execute_result"
    }
   ],
   "source": [
    "mars_df.columns = mars_df.iloc[0]\n",
    "mars_df = mars_df.iloc[1:]\n",
    "mars_df"
   ]
  },
  {
   "cell_type": "code",
   "execution_count": 50,
   "id": "d36956df",
   "metadata": {},
   "outputs": [],
   "source": [
    "# Mars Hemisphere\n",
    "Mars_hemoshpere_url=\"https://marshemispheres.com/\"\n",
    "browser.visit(Mars_hemoshpere_url)"
   ]
  },
  {
   "cell_type": "code",
   "execution_count": 51,
   "id": "b67dfb8b",
   "metadata": {},
   "outputs": [],
   "source": [
    "hemisphere_list =[]\n",
    "html = browser.html\n",
    "soup = BeautifulSoup(html, 'html.parser')\n",
    "results = soup.find_all('div', class_ ='item')\n",
    "for hemisphere in results:\n",
    "    browser.links.find_by_partial_text(hemisphere.h3.text).click()\n",
    "    html= browser.html\n",
    "    soup = BeautifulSoup(html, 'html.parser')\n",
    "    image_title = soup.h2.text\n",
    "    image_url= Mars_hemoshpere_url + soup.find('img', class_=\"wide-image\")['src']\n",
    "    browser.visit(Mars_hemoshpere_url)\n",
    "    dict = {'title': image_title, 'image_url': image_url}\n",
    "    hemisphere_list.append(dict)"
   ]
  },
  {
   "cell_type": "code",
   "execution_count": 52,
   "id": "870a77b4",
   "metadata": {},
   "outputs": [],
   "source": [
    "browser.quit()"
   ]
  },
  {
   "cell_type": "code",
   "execution_count": null,
   "id": "a6b6b7f9",
   "metadata": {},
   "outputs": [],
   "source": []
  }
 ],
 "metadata": {
  "kernelspec": {
   "display_name": "Python 3",
   "language": "python",
   "name": "python3"
  },
  "language_info": {
   "codemirror_mode": {
    "name": "ipython",
    "version": 3
   },
   "file_extension": ".py",
   "mimetype": "text/x-python",
   "name": "python",
   "nbconvert_exporter": "python",
   "pygments_lexer": "ipython3",
   "version": "3.8.8"
  }
 },
 "nbformat": 4,
 "nbformat_minor": 5
}
