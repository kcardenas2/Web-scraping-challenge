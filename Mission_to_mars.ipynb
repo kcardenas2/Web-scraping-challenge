{
 "cells": [
  {
   "cell_type": "code",
   "execution_count": 1,
   "id": "15c7ee9f",
   "metadata": {},
   "outputs": [],
   "source": [
    "news_title = \"NASA Prepares for Moon and Mars With New Addition to Its Deep Space Network\"\n",
    "news_p= \"Robotic spacecraft will be able to communicate with the dish using radio waves and lasers.\""
   ]
  },
  {
   "cell_type": "code",
   "execution_count": null,
   "id": "13531bb4",
   "metadata": {},
   "outputs": [],
   "source": []
  }
 ],
 "metadata": {
  "kernelspec": {
   "display_name": "Python 3",
   "language": "python",
   "name": "python3"
  },
  "language_info": {
   "codemirror_mode": {
    "name": "ipython",
    "version": 3
   },
   "file_extension": ".py",
   "mimetype": "text/x-python",
   "name": "python",
   "nbconvert_exporter": "python",
   "pygments_lexer": "ipython3",
   "version": "3.8.8"
  }
 },
 "nbformat": 4,
 "nbformat_minor": 5
}
